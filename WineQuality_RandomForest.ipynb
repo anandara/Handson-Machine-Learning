{
 "cells": [
  {
   "cell_type": "code",
   "execution_count": 69,
   "metadata": {},
   "outputs": [],
   "source": [
    "import pandas as pd\n",
    "import numpy as np\n",
    "import matplotlib.pyplot as plt\n",
    "%matplotlib inline\n",
    "from sklearn.preprocessing import StandardScaler\n",
    "from sklearn.linear_model import LogisticRegression\n",
    "from sklearn.tree import DecisionTreeClassifier\n",
    "from sklearn.ensemble import RandomForestClassifier\n",
    "from sklearn.model_selection import train_test_split\n",
    "from sklearn.metrics import accuracy_score\n",
    "from sklearn.preprocessing import PolynomialFeatures\n",
    "import seaborn as  sn\n",
    "import warnings\n",
    "warnings.filterwarnings(\"ignore\")\n",
    "np.random.seed(42)"
   ]
  },
  {
   "cell_type": "code",
   "execution_count": 80,
   "metadata": {},
   "outputs": [],
   "source": [
    "df=pd.read_csv('winequality-white.csv',sep=';')\n",
    "#https://archive.ics.uci.edu/ml/machine-learning-databases/balance-scale/balance-scale.names"
   ]
  },
  {
   "cell_type": "code",
   "execution_count": 81,
   "metadata": {},
   "outputs": [
    {
     "data": {
      "text/html": [
       "<div>\n",
       "<style scoped>\n",
       "    .dataframe tbody tr th:only-of-type {\n",
       "        vertical-align: middle;\n",
       "    }\n",
       "\n",
       "    .dataframe tbody tr th {\n",
       "        vertical-align: top;\n",
       "    }\n",
       "\n",
       "    .dataframe thead th {\n",
       "        text-align: right;\n",
       "    }\n",
       "</style>\n",
       "<table border=\"1\" class=\"dataframe\">\n",
       "  <thead>\n",
       "    <tr style=\"text-align: right;\">\n",
       "      <th></th>\n",
       "      <th>fixed acidity</th>\n",
       "      <th>volatile acidity</th>\n",
       "      <th>citric acid</th>\n",
       "      <th>residual sugar</th>\n",
       "      <th>chlorides</th>\n",
       "      <th>free sulfur dioxide</th>\n",
       "      <th>total sulfur dioxide</th>\n",
       "      <th>density</th>\n",
       "      <th>pH</th>\n",
       "      <th>sulphates</th>\n",
       "      <th>alcohol</th>\n",
       "      <th>quality</th>\n",
       "    </tr>\n",
       "  </thead>\n",
       "  <tbody>\n",
       "    <tr>\n",
       "      <th>0</th>\n",
       "      <td>7.0</td>\n",
       "      <td>0.27</td>\n",
       "      <td>0.36</td>\n",
       "      <td>20.7</td>\n",
       "      <td>0.045</td>\n",
       "      <td>45.0</td>\n",
       "      <td>170.0</td>\n",
       "      <td>1.0010</td>\n",
       "      <td>3.00</td>\n",
       "      <td>0.45</td>\n",
       "      <td>8.8</td>\n",
       "      <td>6</td>\n",
       "    </tr>\n",
       "    <tr>\n",
       "      <th>1</th>\n",
       "      <td>6.3</td>\n",
       "      <td>0.30</td>\n",
       "      <td>0.34</td>\n",
       "      <td>1.6</td>\n",
       "      <td>0.049</td>\n",
       "      <td>14.0</td>\n",
       "      <td>132.0</td>\n",
       "      <td>0.9940</td>\n",
       "      <td>3.30</td>\n",
       "      <td>0.49</td>\n",
       "      <td>9.5</td>\n",
       "      <td>6</td>\n",
       "    </tr>\n",
       "    <tr>\n",
       "      <th>2</th>\n",
       "      <td>8.1</td>\n",
       "      <td>0.28</td>\n",
       "      <td>0.40</td>\n",
       "      <td>6.9</td>\n",
       "      <td>0.050</td>\n",
       "      <td>30.0</td>\n",
       "      <td>97.0</td>\n",
       "      <td>0.9951</td>\n",
       "      <td>3.26</td>\n",
       "      <td>0.44</td>\n",
       "      <td>10.1</td>\n",
       "      <td>6</td>\n",
       "    </tr>\n",
       "    <tr>\n",
       "      <th>3</th>\n",
       "      <td>7.2</td>\n",
       "      <td>0.23</td>\n",
       "      <td>0.32</td>\n",
       "      <td>8.5</td>\n",
       "      <td>0.058</td>\n",
       "      <td>47.0</td>\n",
       "      <td>186.0</td>\n",
       "      <td>0.9956</td>\n",
       "      <td>3.19</td>\n",
       "      <td>0.40</td>\n",
       "      <td>9.9</td>\n",
       "      <td>6</td>\n",
       "    </tr>\n",
       "    <tr>\n",
       "      <th>4</th>\n",
       "      <td>7.2</td>\n",
       "      <td>0.23</td>\n",
       "      <td>0.32</td>\n",
       "      <td>8.5</td>\n",
       "      <td>0.058</td>\n",
       "      <td>47.0</td>\n",
       "      <td>186.0</td>\n",
       "      <td>0.9956</td>\n",
       "      <td>3.19</td>\n",
       "      <td>0.40</td>\n",
       "      <td>9.9</td>\n",
       "      <td>6</td>\n",
       "    </tr>\n",
       "  </tbody>\n",
       "</table>\n",
       "</div>"
      ],
      "text/plain": [
       "   fixed acidity  volatile acidity  citric acid  residual sugar  chlorides  \\\n",
       "0            7.0              0.27         0.36            20.7      0.045   \n",
       "1            6.3              0.30         0.34             1.6      0.049   \n",
       "2            8.1              0.28         0.40             6.9      0.050   \n",
       "3            7.2              0.23         0.32             8.5      0.058   \n",
       "4            7.2              0.23         0.32             8.5      0.058   \n",
       "\n",
       "   free sulfur dioxide  total sulfur dioxide  density    pH  sulphates  \\\n",
       "0                 45.0                 170.0   1.0010  3.00       0.45   \n",
       "1                 14.0                 132.0   0.9940  3.30       0.49   \n",
       "2                 30.0                  97.0   0.9951  3.26       0.44   \n",
       "3                 47.0                 186.0   0.9956  3.19       0.40   \n",
       "4                 47.0                 186.0   0.9956  3.19       0.40   \n",
       "\n",
       "   alcohol  quality  \n",
       "0      8.8        6  \n",
       "1      9.5        6  \n",
       "2     10.1        6  \n",
       "3      9.9        6  \n",
       "4      9.9        6  "
      ]
     },
     "execution_count": 81,
     "metadata": {},
     "output_type": "execute_result"
    }
   ],
   "source": [
    "df.head()"
   ]
  },
  {
   "cell_type": "code",
   "execution_count": 82,
   "metadata": {},
   "outputs": [
    {
     "data": {
      "text/plain": [
       "6    2198\n",
       "5    1457\n",
       "7     880\n",
       "8     175\n",
       "4     163\n",
       "3      20\n",
       "9       5\n",
       "Name: quality, dtype: int64"
      ]
     },
     "execution_count": 82,
     "metadata": {},
     "output_type": "execute_result"
    }
   ],
   "source": [
    "df['quality'].value_counts()"
   ]
  },
  {
   "cell_type": "code",
   "execution_count": 83,
   "metadata": {},
   "outputs": [
    {
     "data": {
      "text/plain": [
       "<matplotlib.axes._subplots.AxesSubplot at 0x20ccc90edd8>"
      ]
     },
     "execution_count": 83,
     "metadata": {},
     "output_type": "execute_result"
    },
    {
     "data": {
      "image/png": "[encoded data removed]",
      "text/plain": [
       "<Figure size 432x288 with 2 Axes>"
      ]
     },
     "metadata": {
      "needs_background": "light"
     },
     "output_type": "display_data"
    }
   ],
   "source": [
    "\n",
    "sn.heatmap(df.corr())"
   ]
  },
  {
   "cell_type": "code",
   "execution_count": 86,
   "metadata": {},
   "outputs": [
    {
     "data": {
      "text/plain": [
       "(3189, 12)"
      ]
     },
     "execution_count": 86,
     "metadata": {},
     "output_type": "execute_result"
    }
   ],
   "source": [
    "df.shape"
   ]
  },
  {
   "cell_type": "code",
   "execution_count": 85,
   "metadata": {},
   "outputs": [],
   "source": [
    "df.drop_duplicates(keep=False, inplace=True)"
   ]
  },
  {
   "cell_type": "code",
   "execution_count": null,
   "metadata": {},
   "outputs": [],
   "source": []
  },
  {
   "cell_type": "code",
   "execution_count": null,
   "metadata": {},
   "outputs": [],
   "source": []
  },
  {
   "cell_type": "code",
   "execution_count": null,
   "metadata": {},
   "outputs": [],
   "source": []
  },
  {
   "cell_type": "code",
   "execution_count": null,
   "metadata": {},
   "outputs": [],
   "source": []
  },
  {
   "cell_type": "code",
   "execution_count": null,
   "metadata": {},
   "outputs": [],
   "source": []
  },
  {
   "cell_type": "code",
   "execution_count": null,
   "metadata": {},
   "outputs": [],
   "source": []
  },
  {
   "cell_type": "code",
   "execution_count": 87,
   "metadata": {},
   "outputs": [],
   "source": [
    "X=df.drop(columns='quality')\n",
    "y=df['quality']"
   ]
  },
  {
   "cell_type": "code",
   "execution_count": 88,
   "metadata": {},
   "outputs": [],
   "source": [
    "train, test, y_train, y_test = train_test_split(X, y, test_size = 0.3)"
   ]
  },
  {
   "cell_type": "code",
   "execution_count": 89,
   "metadata": {},
   "outputs": [
    {
     "name": "stdout",
     "output_type": "stream",
     "text": [
      "Accuracy score baseline: 0.5088819226750261\n"
     ]
    }
   ],
   "source": [
    "lr = LogisticRegression()\n",
    "lr.fit(train, y_train)\n",
    "y_pred = lr.predict(test)\n",
    "print('Accuracy score baseline:', accuracy_score(y_test, y_pred))"
   ]
  },
  {
   "cell_type": "code",
   "execution_count": 90,
   "metadata": {
    "scrolled": true
   },
   "outputs": [
    {
     "name": "stdout",
     "output_type": "stream",
     "text": [
      "0.4231974921630094\n"
     ]
    }
   ],
   "source": [
    "dt = DecisionTreeClassifier()\n",
    "dt.fit(train, y_train)\n",
    "y_pred = dt.predict(test)\n",
    "print(accuracy_score(y_test, y_pred))"
   ]
  },
  {
   "cell_type": "code",
   "execution_count": 91,
   "metadata": {},
   "outputs": [],
   "source": [
    "def fit_predict(train, test, y_train, y_test, max_depth, \n",
    "                criterion = 'entropy', max_features = 1, min_samples_split = 4):\n",
    "    dt = DecisionTreeClassifier(criterion = criterion, max_depth=max_depth, \n",
    "                                random_state=42, max_features=max_features,\n",
    "                               min_samples_split=min_samples_split)\n",
    "    dt.fit(train, y_train)\n",
    "    y_pred = dt.predict(test)\n",
    "    print(accuracy_score(y_test, y_pred))"
   ]
  },
  {
   "cell_type": "code",
   "execution_count": 22,
   "metadata": {},
   "outputs": [
    {
     "name": "stdout",
     "output_type": "stream",
     "text": [
      "0.8085106382978723\n"
     ]
    }
   ],
   "source": [
    "dt = DecisionTreeClassifier(max_depth=22,max_features=0.2,min_samples_split=2)\n",
    "dt.fit(train, y_train)\n",
    "y_pred = dt.predict(test)\n",
    "print(accuracy_score(y_test, y_pred))"
   ]
  },
  {
   "cell_type": "code",
   "execution_count": 40,
   "metadata": {},
   "outputs": [],
   "source": [
    "#MAx Depth"
   ]
  },
  {
   "cell_type": "code",
   "execution_count": 44,
   "metadata": {},
   "outputs": [
    {
     "name": "stdout",
     "output_type": "stream",
     "text": [
      "Accuracy score using max_depth = 1: 0.46938775510204084\n",
      "Accuracy score using max_depth = 2: 0.4714285714285714\n",
      "Accuracy score using max_depth = 3: 0.4741496598639456\n",
      "Accuracy score using max_depth = 4: 0.47891156462585033\n",
      "Accuracy score using max_depth = 5: 0.47687074829931975\n",
      "Accuracy score using max_depth = 6: 0.45374149659863944\n",
      "Accuracy score using max_depth = 7: 0.5095238095238095\n",
      "Accuracy score using max_depth = 8: 0.5027210884353741\n",
      "Accuracy score using max_depth = 9: 0.4965986394557823\n",
      "Accuracy score using max_depth = 10: 0.5319727891156463\n",
      "Accuracy score using max_depth = 11: 0.5115646258503401\n",
      "Accuracy score using max_depth = 12: 0.5571428571428572\n",
      "Accuracy score using max_depth = 13: 0.5210884353741496\n",
      "Accuracy score using max_depth = 14: 0.5387755102040817\n",
      "Accuracy score using max_depth = 15: 0.5517006802721088\n",
      "Accuracy score using max_depth = 16: 0.5374149659863946\n",
      "Accuracy score using max_depth = 17: 0.5333333333333333\n",
      "Accuracy score using max_depth = 18: 0.5578231292517006\n",
      "Accuracy score using max_depth = 19: 0.5387755102040817\n",
      "Accuracy score using max_depth = 20: 0.563265306122449\n",
      "Accuracy score using max_depth = 21: 0.5571428571428572\n",
      "Accuracy score using max_depth = 22: 0.5517006802721088\n",
      "Accuracy score using max_depth = 23: 0.5510204081632653\n",
      "Accuracy score using max_depth = 24: 0.5448979591836735\n"
     ]
    }
   ],
   "source": [
    "for i in range(1,25):\n",
    "    print('Accuracy score using max_depth =', i, end = ': ')\n",
    "    fit_predict(train, test, y_train, y_test, i)"
   ]
  },
  {
   "cell_type": "code",
   "execution_count": null,
   "metadata": {},
   "outputs": [],
   "source": [
    "MAXFetature  -- percentage of features "
   ]
  },
  {
   "cell_type": "code",
   "execution_count": 45,
   "metadata": {},
   "outputs": [
    {
     "name": "stdout",
     "output_type": "stream",
     "text": [
      "Accuracy score using max features = 0.1: 0.5448979591836735\n",
      "Accuracy score using max features = 0.2: 0.5598639455782313\n",
      "Accuracy score using max features = 0.30000000000000004: 0.5578231292517006\n",
      "Accuracy score using max features = 0.4: 0.5761904761904761\n",
      "Accuracy score using max features = 0.5: 0.5816326530612245\n",
      "Accuracy score using max features = 0.6: 0.5748299319727891\n",
      "Accuracy score using max features = 0.7000000000000001: 0.5775510204081633\n",
      "Accuracy score using max features = 0.8: 0.5986394557823129\n",
      "Accuracy score using max features = 0.9: 0.5816326530612245\n"
     ]
    }
   ],
   "source": [
    "for i in np.arange(0.1, 1.0, 0.1):\n",
    "    print('Accuracy score using max features =', i, end = ': ')\n",
    "    fit_predict(train, test, y_train, y_test, max_depth = 25, max_features=i)"
   ]
  },
  {
   "cell_type": "code",
   "execution_count": null,
   "metadata": {},
   "outputs": [],
   "source": [
    "#MinSampleSplit --  no of records to require to split the node Example if minmum of 2 sample then only split happen"
   ]
  },
  {
   "cell_type": "code",
   "execution_count": 46,
   "metadata": {},
   "outputs": [
    {
     "name": "stdout",
     "output_type": "stream",
     "text": [
      "Accuracy score using min samples split = 2: 0.5965986394557823\n",
      "Accuracy score using min samples split = 3: 0.5741496598639456\n",
      "Accuracy score using min samples split = 4: 0.5986394557823129\n",
      "Accuracy score using min samples split = 5: 0.5843537414965987\n",
      "Accuracy score using min samples split = 6: 0.5897959183673469\n",
      "Accuracy score using min samples split = 7: 0.5666666666666667\n",
      "Accuracy score using min samples split = 8: 0.5510204081632653\n",
      "Accuracy score using min samples split = 9: 0.5503401360544218\n"
     ]
    }
   ],
   "source": [
    "for i in range(2, 10):\n",
    "    print('Accuracy score using min samples split =', i, end = ': ')\n",
    "    fit_predict(train, test, y_train, y_test, 25, max_features=0.8, min_samples_split=i)"
   ]
  },
  {
   "cell_type": "code",
   "execution_count": null,
   "metadata": {},
   "outputs": [],
   "source": [
    "#Critertion "
   ]
  },
  {
   "cell_type": "code",
   "execution_count": 47,
   "metadata": {},
   "outputs": [
    {
     "name": "stdout",
     "output_type": "stream",
     "text": [
      "Accuracy score using criterion = gini: 0.5673469387755102\n",
      "Accuracy score using criterion = entropy: 0.5986394557823129\n"
     ]
    }
   ],
   "source": [
    "for i in ['gini', 'entropy']:\n",
    "    print('Accuracy score using criterion =', i, end = ': ')\n",
    "    fit_predict(train, test, y_train, y_test, 25, \n",
    "                max_features=0.8, min_samples_split=4, criterion = i)"
   ]
  },
  {
   "cell_type": "code",
   "execution_count": 49,
   "metadata": {},
   "outputs": [
    {
     "name": "stdout",
     "output_type": "stream",
     "text": [
      "0.5877551020408164\n"
     ]
    }
   ],
   "source": [
    "dt = DecisionTreeClassifier(max_depth=20,criterion ='entropy',max_features=0.8,min_samples_split=4)\n",
    "dt.fit(train, y_train)\n",
    "y_pred = dt.predict(test)\n",
    "print(accuracy_score(y_test, y_pred))"
   ]
  },
  {
   "cell_type": "code",
   "execution_count": 92,
   "metadata": {},
   "outputs": [],
   "source": [
    "def fit_predict(train, test, y_train, y_test, max_depth, \n",
    "                criterion = 'entropy', max_features = 1, min_samples_split = 4,n_estimators=10):\n",
    "    dt = RandomForestClassifier(n_estimators=n_estimators, criterion = criterion, max_depth=max_depth, \n",
    "                                random_state=42, max_features=max_features,\n",
    "                               min_samples_split=min_samples_split)\n",
    "    dt.fit(train, y_train)\n",
    "    y_pred = dt.predict(test)\n",
    "    print(accuracy_score(y_test, y_pred))"
   ]
  },
  {
   "cell_type": "code",
   "execution_count": 93,
   "metadata": {},
   "outputs": [],
   "source": [
    "#N_estimator ( no.of Tree)"
   ]
  },
  {
   "cell_type": "code",
   "execution_count": 94,
   "metadata": {},
   "outputs": [
    {
     "name": "stdout",
     "output_type": "stream",
     "text": [
      "Accuracy score using No.of Tree = 10: 0.4754440961337513\n",
      "Accuracy score using No.of Tree = 20: 0.509926854754441\n",
      "Accuracy score using No.of Tree = 30: 0.522466039707419\n",
      "Accuracy score using No.of Tree = 40: 0.5266457680250783\n",
      "Accuracy score using No.of Tree = 50: 0.5329153605015674\n",
      "Accuracy score using No.of Tree = 60: 0.542319749216301\n",
      "Accuracy score using No.of Tree = 70: 0.5412748171368861\n",
      "Accuracy score using No.of Tree = 80: 0.5329153605015674\n",
      "Accuracy score using No.of Tree = 90: 0.5391849529780565\n"
     ]
    }
   ],
   "source": [
    "for i in range(10,100,10):\n",
    "    print('Accuracy score using No.of Tree =', i, end = ': ')\n",
    "    fit_predict(train, test, y_train, y_test, 26 \n",
    "                ,n_estimators=i)\n",
    "    "
   ]
  },
  {
   "cell_type": "code",
   "execution_count": 63,
   "metadata": {},
   "outputs": [
    {
     "name": "stdout",
     "output_type": "stream",
     "text": [
      "Accuracy score using max_depth = 1: 0.46938775510204084\n",
      "Accuracy score using max_depth = 2: 0.4782312925170068\n",
      "Accuracy score using max_depth = 3: 0.5176870748299319\n",
      "Accuracy score using max_depth = 4: 0.5251700680272109\n",
      "Accuracy score using max_depth = 5: 0.5394557823129251\n",
      "Accuracy score using max_depth = 6: 0.54421768707483\n",
      "Accuracy score using max_depth = 7: 0.5659863945578232\n",
      "Accuracy score using max_depth = 8: 0.5816326530612245\n",
      "Accuracy score using max_depth = 9: 0.5891156462585034\n",
      "Accuracy score using max_depth = 10: 0.6163265306122448\n",
      "Accuracy score using max_depth = 11: 0.6258503401360545\n",
      "Accuracy score using max_depth = 12: 0.638095238095238\n",
      "Accuracy score using max_depth = 13: 0.6625850340136055\n",
      "Accuracy score using max_depth = 14: 0.6591836734693878\n",
      "Accuracy score using max_depth = 15: 0.6680272108843538\n",
      "Accuracy score using max_depth = 16: 0.6714285714285714\n",
      "Accuracy score using max_depth = 17: 0.6666666666666666\n",
      "Accuracy score using max_depth = 18: 0.6714285714285714\n",
      "Accuracy score using max_depth = 19: 0.6741496598639456\n",
      "Accuracy score using max_depth = 20: 0.6755102040816326\n",
      "Accuracy score using max_depth = 21: 0.6693877551020408\n",
      "Accuracy score using max_depth = 22: 0.6782312925170068\n",
      "Accuracy score using max_depth = 23: 0.6795918367346939\n",
      "Accuracy score using max_depth = 24: 0.6795918367346939\n",
      "Accuracy score using max_depth = 25: 0.6789115646258503\n"
     ]
    }
   ],
   "source": [
    "for i in range(1,26):\n",
    "    print('Accuracy score using max_depth =', i, end = ': ')\n",
    "    fit_predict(train, test, y_train, y_test, i,n_estimators=90)"
   ]
  },
  {
   "cell_type": "code",
   "execution_count": 64,
   "metadata": {},
   "outputs": [
    {
     "name": "stdout",
     "output_type": "stream",
     "text": [
      "Accuracy score using max features = 0.1: 0.682312925170068\n",
      "Accuracy score using max features = 0.2: 0.6748299319727891\n",
      "Accuracy score using max features = 0.30000000000000004: 0.6748299319727891\n",
      "Accuracy score using max features = 0.4: 0.6768707482993197\n",
      "Accuracy score using max features = 0.5: 0.6761904761904762\n",
      "Accuracy score using max features = 0.6: 0.6714285714285714\n",
      "Accuracy score using max features = 0.7000000000000001: 0.673469387755102\n",
      "Accuracy score using max features = 0.8: 0.680952380952381\n",
      "Accuracy score using max features = 0.9: 0.6795918367346939\n"
     ]
    }
   ],
   "source": [
    "for i in np.arange(0.1, 1.0, 0.1):\n",
    "    print('Accuracy score using max features =', i, end = ': ')\n",
    "    fit_predict(train, test, y_train, y_test, max_depth = 26, max_features=i,n_estimators=90)"
   ]
  },
  {
   "cell_type": "code",
   "execution_count": 65,
   "metadata": {},
   "outputs": [
    {
     "name": "stdout",
     "output_type": "stream",
     "text": [
      "Accuracy score using min samples split = 2: 0.6795918367346939\n",
      "Accuracy score using min samples split = 3: 0.6700680272108843\n",
      "Accuracy score using min samples split = 4: 0.682312925170068\n",
      "Accuracy score using min samples split = 5: 0.6700680272108843\n",
      "Accuracy score using min samples split = 6: 0.6741496598639456\n",
      "Accuracy score using min samples split = 7: 0.6551020408163265\n",
      "Accuracy score using min samples split = 8: 0.6489795918367347\n",
      "Accuracy score using min samples split = 9: 0.6503401360544218\n"
     ]
    }
   ],
   "source": [
    "for i in range(2, 10):\n",
    "    print('Accuracy score using min samples split =', i, end = ': ')\n",
    "    fit_predict(train, test, y_train, y_test, 26, max_features=0.1, min_samples_split=i,n_estimators=90)"
   ]
  },
  {
   "cell_type": "code",
   "execution_count": 67,
   "metadata": {},
   "outputs": [
    {
     "name": "stdout",
     "output_type": "stream",
     "text": [
      "Accuracy score using criterion = gini: 0.680952380952381\n",
      "Accuracy score using criterion = entropy: 0.6748299319727891\n"
     ]
    }
   ],
   "source": [
    "for i in ['gini', 'entropy']:\n",
    "    print('Accuracy score using criterion =', i, end = ': ')\n",
    "    fit_predict(train, test, y_train, y_test, 26, \n",
    "                max_features=0.2, min_samples_split=4, criterion = i,n_estimators=90)"
   ]
  },
  {
   "cell_type": "code",
   "execution_count": 68,
   "metadata": {},
   "outputs": [
    {
     "name": "stdout",
     "output_type": "stream",
     "text": [
      "0.682312925170068\n"
     ]
    }
   ],
   "source": [
    "    fit_predict(train, test, y_train, y_test, 26, \n",
    "                max_features=0.1, min_samples_split=4, criterion = i,n_estimators=90)"
   ]
  },
  {
   "cell_type": "code",
   "execution_count": null,
   "metadata": {},
   "outputs": [],
   "source": []
  },
  {
   "cell_type": "code",
   "execution_count": null,
   "metadata": {},
   "outputs": [],
   "source": []
  }
 ],
 "metadata": {
  "kernelspec": {
   "display_name": "Python 3",
   "language": "python",
   "name": "python3"
  },
  "language_info": {
   "codemirror_mode": {
    "name": "ipython",
    "version": 3
   },
   "file_extension": ".py",
   "mimetype": "text/x-python",
   "name": "python",
   "nbconvert_exporter": "python",
   "pygments_lexer": "ipython3",
   "version": "3.7.0"
  }
 },
 "nbformat": 4,
 "nbformat_minor": 2
}

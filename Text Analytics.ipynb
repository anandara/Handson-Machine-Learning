{
 "cells": [
  {
   "cell_type": "code",
   "execution_count": null,
   "metadata": {},
   "outputs": [],
   "source": [
    "#https://data-science-blog.com/blog/2018/11/04/sentiment-analysis-using-python/\n"
   ]
  },
  {
   "cell_type": "code",
   "execution_count": 17,
   "metadata": {},
   "outputs": [],
   "source": [
    "import pandas as pd\n",
    "import matplotlib.pyplot as plt\n",
    "%matplotlib inline  \n",
    "import nltk\n",
    "from nltk import word_tokenize, sent_tokenize\n",
    "from nltk.corpus import stopwords\n",
    "from nltk.stem import LancasterStemmer, WordNetLemmatizer, PorterStemmer\n",
    "from wordcloud import WordCloud, STOPWORDS\n",
    "from textblob import TextBlob"
   ]
  },
  {
   "cell_type": "code",
   "execution_count": null,
   "metadata": {},
   "outputs": [],
   "source": [
    "#using pip install  wordcloud \n",
    "#pip install textblob "
   ]
  },
  {
   "cell_type": "code",
   "execution_count": 4,
   "metadata": {},
   "outputs": [
    {
     "name": "stderr",
     "output_type": "stream",
     "text": [
      "C:\\ProgramData\\Anaconda3\\lib\\site-packages\\IPython\\core\\interactiveshell.py:2785: DtypeWarning: Columns (1,10) have mixed types. Specify dtype option on import or set low_memory=False.\n",
      "  interactivity=interactivity, compiler=compiler, result=result)\n"
     ]
    }
   ],
   "source": [
    "amz_reviews = pd.read_csv(\"E:\\\\DataScience\\\\Inceptez\\\\Text_analytics\\\\consumer-reviews-of-amazon-products\\\\1429_1.csv\")    \n"
   ]
  },
  {
   "cell_type": "code",
   "execution_count": 5,
   "metadata": {},
   "outputs": [
    {
     "data": {
      "text/plain": [
       "(34660, 21)"
      ]
     },
     "execution_count": 5,
     "metadata": {},
     "output_type": "execute_result"
    }
   ],
   "source": [
    "amz_reviews.shape"
   ]
  },
  {
   "cell_type": "code",
   "execution_count": 6,
   "metadata": {},
   "outputs": [
    {
     "data": {
      "text/plain": [
       "Index(['id', 'name', 'asins', 'brand', 'categories', 'keys', 'manufacturer',\n",
       "       'reviews.date', 'reviews.dateAdded', 'reviews.dateSeen',\n",
       "       'reviews.didPurchase', 'reviews.doRecommend', 'reviews.id',\n",
       "       'reviews.numHelpful', 'reviews.rating', 'reviews.sourceURLs',\n",
       "       'reviews.text', 'reviews.title', 'reviews.userCity',\n",
       "       'reviews.userProvince', 'reviews.username'],\n",
       "      dtype='object')"
      ]
     },
     "execution_count": 6,
     "metadata": {},
     "output_type": "execute_result"
    }
   ],
   "source": [
    "amz_reviews.columns"
   ]
  },
  {
   "cell_type": "code",
   "execution_count": 7,
   "metadata": {},
   "outputs": [],
   "source": [
    "columns = ['id','name','keys','manufacturer','reviews.dateAdded', 'reviews.date','reviews.didPurchase',\n",
    "          'reviews.userCity', 'reviews.userProvince', 'reviews.dateSeen', 'reviews.doRecommend','asins',\n",
    "          'reviews.id', 'reviews.numHelpful', 'reviews.sourceURLs', 'reviews.title']\n",
    " \n",
    "df = pd.DataFrame(amz_reviews.drop(columns,axis=1,inplace=False))"
   ]
  },
  {
   "cell_type": "code",
   "execution_count": 8,
   "metadata": {},
   "outputs": [
    {
     "data": {
      "text/html": [
       "<div>\n",
       "<style scoped>\n",
       "    .dataframe tbody tr th:only-of-type {\n",
       "        vertical-align: middle;\n",
       "    }\n",
       "\n",
       "    .dataframe tbody tr th {\n",
       "        vertical-align: top;\n",
       "    }\n",
       "\n",
       "    .dataframe thead th {\n",
       "        text-align: right;\n",
       "    }\n",
       "</style>\n",
       "<table border=\"1\" class=\"dataframe\">\n",
       "  <thead>\n",
       "    <tr style=\"text-align: right;\">\n",
       "      <th></th>\n",
       "      <th>brand</th>\n",
       "      <th>categories</th>\n",
       "      <th>reviews.rating</th>\n",
       "      <th>reviews.text</th>\n",
       "      <th>reviews.username</th>\n",
       "    </tr>\n",
       "  </thead>\n",
       "  <tbody>\n",
       "    <tr>\n",
       "      <th>0</th>\n",
       "      <td>Amazon</td>\n",
       "      <td>Electronics,iPad &amp; Tablets,All Tablets,Fire Ta...</td>\n",
       "      <td>5.0</td>\n",
       "      <td>This product so far has not disappointed. My c...</td>\n",
       "      <td>Adapter</td>\n",
       "    </tr>\n",
       "    <tr>\n",
       "      <th>1</th>\n",
       "      <td>Amazon</td>\n",
       "      <td>Electronics,iPad &amp; Tablets,All Tablets,Fire Ta...</td>\n",
       "      <td>5.0</td>\n",
       "      <td>great for beginner or experienced person. Boug...</td>\n",
       "      <td>truman</td>\n",
       "    </tr>\n",
       "    <tr>\n",
       "      <th>2</th>\n",
       "      <td>Amazon</td>\n",
       "      <td>Electronics,iPad &amp; Tablets,All Tablets,Fire Ta...</td>\n",
       "      <td>5.0</td>\n",
       "      <td>Inexpensive tablet for him to use and learn on...</td>\n",
       "      <td>DaveZ</td>\n",
       "    </tr>\n",
       "    <tr>\n",
       "      <th>3</th>\n",
       "      <td>Amazon</td>\n",
       "      <td>Electronics,iPad &amp; Tablets,All Tablets,Fire Ta...</td>\n",
       "      <td>4.0</td>\n",
       "      <td>I've had my Fire HD 8 two weeks now and I love...</td>\n",
       "      <td>Shacks</td>\n",
       "    </tr>\n",
       "    <tr>\n",
       "      <th>4</th>\n",
       "      <td>Amazon</td>\n",
       "      <td>Electronics,iPad &amp; Tablets,All Tablets,Fire Ta...</td>\n",
       "      <td>5.0</td>\n",
       "      <td>I bought this for my grand daughter when she c...</td>\n",
       "      <td>explore42</td>\n",
       "    </tr>\n",
       "  </tbody>\n",
       "</table>\n",
       "</div>"
      ],
      "text/plain": [
       "    brand                                         categories  reviews.rating  \\\n",
       "0  Amazon  Electronics,iPad & Tablets,All Tablets,Fire Ta...             5.0   \n",
       "1  Amazon  Electronics,iPad & Tablets,All Tablets,Fire Ta...             5.0   \n",
       "2  Amazon  Electronics,iPad & Tablets,All Tablets,Fire Ta...             5.0   \n",
       "3  Amazon  Electronics,iPad & Tablets,All Tablets,Fire Ta...             4.0   \n",
       "4  Amazon  Electronics,iPad & Tablets,All Tablets,Fire Ta...             5.0   \n",
       "\n",
       "                                        reviews.text reviews.username  \n",
       "0  This product so far has not disappointed. My c...          Adapter  \n",
       "1  great for beginner or experienced person. Boug...           truman  \n",
       "2  Inexpensive tablet for him to use and learn on...            DaveZ  \n",
       "3  I've had my Fire HD 8 two weeks now and I love...           Shacks  \n",
       "4  I bought this for my grand daughter when she c...        explore42  "
      ]
     },
     "execution_count": 8,
     "metadata": {},
     "output_type": "execute_result"
    }
   ],
   "source": [
    "df.head()"
   ]
  },
  {
   "cell_type": "code",
   "execution_count": 9,
   "metadata": {},
   "outputs": [
    {
     "data": {
      "text/plain": [
       "<matplotlib.axes._subplots.AxesSubplot at 0x1c8eb0ffcf8>"
      ]
     },
     "execution_count": 9,
     "metadata": {},
     "output_type": "execute_result"
    },
    {
     "data": {
      "image/png": "[encoded data removed]",
      "text/plain": [
       "<Figure size 432x288 with 1 Axes>"
      ]
     },
     "metadata": {
      "needs_background": "light"
     },
     "output_type": "display_data"
    }
   ],
   "source": [
    "\n",
    "df['reviews.rating'].value_counts().plot(kind='bar')"
   ]
  },
  {
   "cell_type": "code",
   "execution_count": 10,
   "metadata": {},
   "outputs": [],
   "source": [
    "## Change the reviews type to string\n",
    "df['reviews.text'] = df['reviews.text'].astype(str)\n",
    " "
   ]
  },
  {
   "cell_type": "code",
   "execution_count": 13,
   "metadata": {},
   "outputs": [
    {
     "data": {
      "text/plain": [
       "'Inexpensive tablet for him to use and learn on, step up from the NABI. He was thrilled with it, learn how to Skype on it already...'"
      ]
     },
     "execution_count": 13,
     "metadata": {},
     "output_type": "execute_result"
    }
   ],
   "source": [
    "## Before lowercasing \n",
    "df['reviews.text'][2]"
   ]
  },
  {
   "cell_type": "code",
   "execution_count": 14,
   "metadata": {},
   "outputs": [
    {
     "data": {
      "text/plain": [
       "'inexpensive tablet for him to use and learn on, step up from the nabi. he was thrilled with it, learn how to skype on it already...'"
      ]
     },
     "execution_count": 14,
     "metadata": {},
     "output_type": "execute_result"
    }
   ],
   "source": [
    "df['reviews.text'] = df['reviews.text'].apply(lambda x: \" \".join(x.lower() for x in x.split()))\n",
    "df['reviews.text'][2] ## to see the difference"
   ]
  },
  {
   "cell_type": "markdown",
   "metadata": {},
   "source": [
    "# Special characters\n",
    "Special characters are non-alphabetic and non-numeric values such as {!,@#$%^ *()~;:/<>\\|+_-[]?}.\n",
    "Dealing with numbers is straightforward but special characters can be sometimes tricky. During tokenization, special characters create their own tokens and again not helpful for any algorithm, likewise, numbers."
   ]
  },
  {
   "cell_type": "code",
   "execution_count": 15,
   "metadata": {},
   "outputs": [
    {
     "data": {
      "text/plain": [
       "'inexpensive tablet for him to use and learn on step up from the nabi he was thrilled with it learn how to skype on it already'"
      ]
     },
     "execution_count": 15,
     "metadata": {},
     "output_type": "execute_result"
    }
   ],
   "source": [
    "## remove punctuation\n",
    "df['reviews.text'] = df['reviews.text'].str.replace('[^\\w\\s]','')\n",
    "df['reviews.text'][2]"
   ]
  },
  {
   "cell_type": "markdown",
   "metadata": {},
   "source": [
    "# Stopwords\n",
    "Stop-words being most commonly used in the English language; however, these words have no predictive power in reality. Words such as I, me, myself, he, she, they, our, mine, you, yours etc."
   ]
  },
  {
   "cell_type": "code",
   "execution_count": 18,
   "metadata": {},
   "outputs": [
    {
     "name": "stdout",
     "output_type": "stream",
     "text": [
      "[nltk_data] Downloading package stopwords to\n",
      "[nltk_data]     C:\\Users\\anand\\AppData\\Roaming\\nltk_data...\n",
      "[nltk_data]   Unzipping corpora\\stopwords.zip.\n"
     ]
    },
    {
     "data": {
      "text/plain": [
       "True"
      ]
     },
     "execution_count": 18,
     "metadata": {},
     "output_type": "execute_result"
    }
   ],
   "source": [
    "nltk.download('stopwords')"
   ]
  },
  {
   "cell_type": "code",
   "execution_count": 19,
   "metadata": {},
   "outputs": [
    {
     "data": {
      "text/plain": [
       "'inexpensive tablet use learn step nabi thrilled learn skype already'"
      ]
     },
     "execution_count": 19,
     "metadata": {},
     "output_type": "execute_result"
    }
   ],
   "source": [
    "stop = stopwords.words('english')\n",
    "\n",
    "df['reviews.text'] = df['reviews.text'].apply(lambda x: \" \".join(x for x in x.split() if x not in stop))\n",
    "df['reviews.text'][2]"
   ]
  },
  {
   "cell_type": "markdown",
   "metadata": {},
   "source": [
    "# Stemming algorithm is very useful in the field of text mining and helps to gain relevant information as it reduces all words with the same roots to a common form by removing suffixes such as -action, ing, -es and -ses. However, there can be problematic where there are spelling errors."
   ]
  },
  {
   "cell_type": "code",
   "execution_count": 20,
   "metadata": {},
   "outputs": [
    {
     "data": {
      "text/plain": [
       "'inexpens tablet use learn step nabi thrill learn skype alreadi'"
      ]
     },
     "execution_count": 20,
     "metadata": {},
     "output_type": "execute_result"
    }
   ],
   "source": [
    "st = PorterStemmer()\n",
    "df['reviews.text'] = df['reviews.text'].apply(lambda x: \" \".join([st.stem(word) for word in x.split()]))\n",
    "df['reviews.text'][2]"
   ]
  },
  {
   "cell_type": "code",
   "execution_count": 21,
   "metadata": {},
   "outputs": [],
   "source": [
    "## Define a function which can be applied to calculate the score for the whole dataset\n",
    " \n",
    "def senti(x):\n",
    "    return TextBlob(x).sentiment  \n",
    " \n",
    "df['senti_score'] = df['reviews.text'].apply(senti)"
   ]
  },
  {
   "cell_type": "code",
   "execution_count": 24,
   "metadata": {},
   "outputs": [
    {
     "data": {
      "text/html": [
       "<div>\n",
       "<style scoped>\n",
       "    .dataframe tbody tr th:only-of-type {\n",
       "        vertical-align: middle;\n",
       "    }\n",
       "\n",
       "    .dataframe tbody tr th {\n",
       "        vertical-align: top;\n",
       "    }\n",
       "\n",
       "    .dataframe thead th {\n",
       "        text-align: right;\n",
       "    }\n",
       "</style>\n",
       "<table border=\"1\" class=\"dataframe\">\n",
       "  <thead>\n",
       "    <tr style=\"text-align: right;\">\n",
       "      <th></th>\n",
       "      <th>reviews.text</th>\n",
       "      <th>senti_score</th>\n",
       "    </tr>\n",
       "  </thead>\n",
       "  <tbody>\n",
       "    <tr>\n",
       "      <th>0</th>\n",
       "      <td>product far disappoint children love use like ...</td>\n",
       "      <td>(0.3, 0.8)</td>\n",
       "    </tr>\n",
       "    <tr>\n",
       "      <th>1</th>\n",
       "      <td>great beginn experienc person bought gift love</td>\n",
       "      <td>(0.65, 0.675)</td>\n",
       "    </tr>\n",
       "    <tr>\n",
       "      <th>2</th>\n",
       "      <td>inexpens tablet use learn step nabi thrill lea...</td>\n",
       "      <td>(0.0, 0.0)</td>\n",
       "    </tr>\n",
       "    <tr>\n",
       "      <th>3</th>\n",
       "      <td>ive fire hd 8 two week love tablet great value...</td>\n",
       "      <td>(0.29545454545454547, 0.6492424242424243)</td>\n",
       "    </tr>\n",
       "    <tr>\n",
       "      <th>4</th>\n",
       "      <td>bought grand daughter come visit set user ente...</td>\n",
       "      <td>(0.5, 0.5827777777777777)</td>\n",
       "    </tr>\n",
       "    <tr>\n",
       "      <th>5</th>\n",
       "      <td>amazon fire 8 inch tablet perfect size purchas...</td>\n",
       "      <td>(0.5666666666666667, 0.7000000000000001)</td>\n",
       "    </tr>\n",
       "    <tr>\n",
       "      <th>6</th>\n",
       "      <td>great eread go nice light weight price point g...</td>\n",
       "      <td>(0.5249999999999999, 0.6375000000000001)</td>\n",
       "    </tr>\n",
       "    <tr>\n",
       "      <th>7</th>\n",
       "      <td>gave christma gift inlaw husband uncl love eas...</td>\n",
       "      <td>(0.5, 0.6)</td>\n",
       "    </tr>\n",
       "    <tr>\n",
       "      <th>8</th>\n",
       "      <td>great devic read book like link borrow librari...</td>\n",
       "      <td>(0.4666666666666666, 0.8833333333333333)</td>\n",
       "    </tr>\n",
       "    <tr>\n",
       "      <th>9</th>\n",
       "      <td>love order book read reader</td>\n",
       "      <td>(0.5, 0.6)</td>\n",
       "    </tr>\n",
       "    <tr>\n",
       "      <th>10</th>\n",
       "      <td>easi elderli user ceas ad pop</td>\n",
       "      <td>(0.0, 0.0)</td>\n",
       "    </tr>\n",
       "    <tr>\n",
       "      <th>11</th>\n",
       "      <td>excel product easi use larg screen make watch ...</td>\n",
       "      <td>(0.0, 0.0)</td>\n",
       "    </tr>\n",
       "    <tr>\n",
       "      <th>12</th>\n",
       "      <td>want father first tablet good valu watch movi ...</td>\n",
       "      <td>(0.13749999999999998, 0.45833333333333337)</td>\n",
       "    </tr>\n",
       "    <tr>\n",
       "      <th>13</th>\n",
       "      <td>simpli everyth need thank youand silk work wonder</td>\n",
       "      <td>(0.0, 0.0)</td>\n",
       "    </tr>\n",
       "    <tr>\n",
       "      <th>14</th>\n",
       "      <td>got present love size screen</td>\n",
       "      <td>(0.25, 0.3)</td>\n",
       "    </tr>\n",
       "    <tr>\n",
       "      <th>15</th>\n",
       "      <td>kindl easiest use graphic screen crisp clear b...</td>\n",
       "      <td>(0.3125, 0.55)</td>\n",
       "    </tr>\n",
       "    <tr>\n",
       "      <th>16</th>\n",
       "      <td>nice reader almost perfect wantne good bargain</td>\n",
       "      <td>(0.7666666666666666, 0.8666666666666667)</td>\n",
       "    </tr>\n",
       "    <tr>\n",
       "      <th>17</th>\n",
       "      <td>realli like tablet would given 5 star sometim ...</td>\n",
       "      <td>(0.0, 0.0)</td>\n",
       "    </tr>\n",
       "    <tr>\n",
       "      <th>18</th>\n",
       "      <td>great video qualiti lot fun app fun whole famili</td>\n",
       "      <td>(0.4, 0.38749999999999996)</td>\n",
       "    </tr>\n",
       "    <tr>\n",
       "      <th>19</th>\n",
       "      <td>love love love kindl fire 8thi 9 yr old grandd...</td>\n",
       "      <td>(0.25833333333333336, 0.4083333333333334)</td>\n",
       "    </tr>\n",
       "    <tr>\n",
       "      <th>20</th>\n",
       "      <td>excel tablet nice screen wish amazon would pre...</td>\n",
       "      <td>(0.8, 1.0)</td>\n",
       "    </tr>\n",
       "    <tr>\n",
       "      <th>21</th>\n",
       "      <td>preload read app kindl expand app perfect trav...</td>\n",
       "      <td>(0.11666666666666665, 0.6)</td>\n",
       "    </tr>\n",
       "    <tr>\n",
       "      <th>22</th>\n",
       "      <td>happi product easi usepictur clear take great ...</td>\n",
       "      <td>(0.45, 0.5666666666666667)</td>\n",
       "    </tr>\n",
       "    <tr>\n",
       "      <th>23</th>\n",
       "      <td>grandchildren home school util tabl mani learn...</td>\n",
       "      <td>(0.65, 0.675)</td>\n",
       "    </tr>\n",
       "    <tr>\n",
       "      <th>24</th>\n",
       "      <td>great size easi carri travel need spend time l...</td>\n",
       "      <td>(0.8, 0.75)</td>\n",
       "    </tr>\n",
       "    <tr>\n",
       "      <th>25</th>\n",
       "      <td>purchas last tablet die meet basic need price ...</td>\n",
       "      <td>(0.26666666666666666, 0.3138888888888889)</td>\n",
       "    </tr>\n",
       "    <tr>\n",
       "      <th>26</th>\n",
       "      <td>perfect download read book perfect size nice b...</td>\n",
       "      <td>(0.8250000000000001, 0.95)</td>\n",
       "    </tr>\n",
       "    <tr>\n",
       "      <th>27</th>\n",
       "      <td>surpris learn capabl devic husband access desk...</td>\n",
       "      <td>(0.0, 0.0)</td>\n",
       "    </tr>\n",
       "    <tr>\n",
       "      <th>28</th>\n",
       "      <td>got son user friendli durabl</td>\n",
       "      <td>(0.0, 0.0)</td>\n",
       "    </tr>\n",
       "    <tr>\n",
       "      <th>29</th>\n",
       "      <td>visual qualiti fire 8 hd amaz run fast easi us...</td>\n",
       "      <td>(0.1, 0.3)</td>\n",
       "    </tr>\n",
       "    <tr>\n",
       "      <th>...</th>\n",
       "      <td>...</td>\n",
       "      <td>...</td>\n",
       "    </tr>\n",
       "    <tr>\n",
       "      <th>34630</th>\n",
       "      <td>new kindl dx2 graphit came yesterday immedi re...</td>\n",
       "      <td>(0.19664502164502168, 0.36699134199134203)</td>\n",
       "    </tr>\n",
       "    <tr>\n",
       "      <th>34631</th>\n",
       "      <td>cover made kindl dx fit beauti problem big one...</td>\n",
       "      <td>(0.1388888888888889, 0.31481481481481477)</td>\n",
       "    </tr>\n",
       "    <tr>\n",
       "      <th>34632</th>\n",
       "      <td>sever cover simpl rubber cover expand packag h...</td>\n",
       "      <td>(0.13164335664335663, 0.46808469308469314)</td>\n",
       "    </tr>\n",
       "    <tr>\n",
       "      <th>34633</th>\n",
       "      <td>reason peopl give 5 star dont give product eno...</td>\n",
       "      <td>(0.10119047619047618, 0.4186507936507936)</td>\n",
       "    </tr>\n",
       "    <tr>\n",
       "      <th>34634</th>\n",
       "      <td>cover must kindl read devic purchas differ cas...</td>\n",
       "      <td>(0.0, 0.0)</td>\n",
       "    </tr>\n",
       "    <tr>\n",
       "      <th>34635</th>\n",
       "      <td>cover black cover inde fold back sure review s...</td>\n",
       "      <td>(0.052564102564102565, 0.46324786324786327)</td>\n",
       "    </tr>\n",
       "    <tr>\n",
       "      <th>34636</th>\n",
       "      <td>found cover quit handsom appear everyon see co...</td>\n",
       "      <td>(0.19722222222222222, 0.48194444444444445)</td>\n",
       "    </tr>\n",
       "    <tr>\n",
       "      <th>34637</th>\n",
       "      <td>well kindl lover notic although taken great ca...</td>\n",
       "      <td>(0.39, 0.53)</td>\n",
       "    </tr>\n",
       "    <tr>\n",
       "      <th>34638</th>\n",
       "      <td>cover replac initi cover broke kindl framewher...</td>\n",
       "      <td>(0.3303030303030303, 0.4676767676767677)</td>\n",
       "    </tr>\n",
       "    <tr>\n",
       "      <th>34639</th>\n",
       "      <td>recent receiv kindl fire hd gift knew hook com...</td>\n",
       "      <td>(0.15, 0.175)</td>\n",
       "    </tr>\n",
       "    <tr>\n",
       "      <th>34640</th>\n",
       "      <td>surpass expect charg faster one come kindl fir...</td>\n",
       "      <td>(0.13636363636363635, 0.45454545454545453)</td>\n",
       "    </tr>\n",
       "    <tr>\n",
       "      <th>34641</th>\n",
       "      <td>amazon alreadi includ cabl kindl fire 7 kindl ...</td>\n",
       "      <td>(0.21282051282051284, 0.2602564102564103)</td>\n",
       "    </tr>\n",
       "    <tr>\n",
       "      <th>34642</th>\n",
       "      <td>bought play kindl long period time play charg ...</td>\n",
       "      <td>(-0.05, 0.4)</td>\n",
       "    </tr>\n",
       "    <tr>\n",
       "      <th>34643</th>\n",
       "      <td>cord work great also love longer origin cord u...</td>\n",
       "      <td>(0.6666666666666666, 0.65)</td>\n",
       "    </tr>\n",
       "    <tr>\n",
       "      <th>34644</th>\n",
       "      <td>correct problem kindl charg hope ill need kind...</td>\n",
       "      <td>(-0.5, 1.0)</td>\n",
       "    </tr>\n",
       "    <tr>\n",
       "      <th>34645</th>\n",
       "      <td>work well kindl model either comput cord charg...</td>\n",
       "      <td>(0.5681818181818181, 0.7272727272727273)</td>\n",
       "    </tr>\n",
       "    <tr>\n",
       "      <th>34646</th>\n",
       "      <td>use one time download ebook work exactli suppo...</td>\n",
       "      <td>(0.0, 0.0)</td>\n",
       "    </tr>\n",
       "    <tr>\n",
       "      <th>34647</th>\n",
       "      <td>excel charg qualiti heavi duti cord work kindl...</td>\n",
       "      <td>(0.8, 0.75)</td>\n",
       "    </tr>\n",
       "    <tr>\n",
       "      <th>34648</th>\n",
       "      <td>charger 9w rapid charger describ work well fir...</td>\n",
       "      <td>(0.55, 0.5)</td>\n",
       "    </tr>\n",
       "    <tr>\n",
       "      <th>34649</th>\n",
       "      <td>expect want thank</td>\n",
       "      <td>(0.0, 0.0)</td>\n",
       "    </tr>\n",
       "    <tr>\n",
       "      <th>34650</th>\n",
       "      <td>although descript state work kindl fire hdx 89...</td>\n",
       "      <td>(0.0, 0.0)</td>\n",
       "    </tr>\n",
       "    <tr>\n",
       "      <th>34651</th>\n",
       "      <td>connect snugli</td>\n",
       "      <td>(0.0, 0.0)</td>\n",
       "    </tr>\n",
       "    <tr>\n",
       "      <th>34652</th>\n",
       "      <td>alreadi pleas amazon choic includ essenti usel...</td>\n",
       "      <td>(0.0625, 0.41250000000000003)</td>\n",
       "    </tr>\n",
       "    <tr>\n",
       "      <th>34653</th>\n",
       "      <td>charger work noth special mk 1 kindl fire does...</td>\n",
       "      <td>(0.17857142857142858, 0.2857142857142857)</td>\n",
       "    </tr>\n",
       "    <tr>\n",
       "      <th>34654</th>\n",
       "      <td>exactli like usb power charger make unnecessar...</td>\n",
       "      <td>(0.0, 0.125)</td>\n",
       "    </tr>\n",
       "    <tr>\n",
       "      <th>34655</th>\n",
       "      <td>appreci faster 18 higher amp charger use kindl...</td>\n",
       "      <td>(0.27499999999999997, 0.3461538461538462)</td>\n",
       "    </tr>\n",
       "    <tr>\n",
       "      <th>34656</th>\n",
       "      <td>amazon includ charger kindl fact theyr charg u...</td>\n",
       "      <td>(0.2, 0.39999999999999997)</td>\n",
       "    </tr>\n",
       "    <tr>\n",
       "      <th>34657</th>\n",
       "      <td>love kindl fire realli disappoint kindl power ...</td>\n",
       "      <td>(0.3111111111111111, 0.4222222222222222)</td>\n",
       "    </tr>\n",
       "    <tr>\n",
       "      <th>34658</th>\n",
       "      <td>surpris find come type charg cord purchas one ...</td>\n",
       "      <td>(0.0, 0.0)</td>\n",
       "    </tr>\n",
       "    <tr>\n",
       "      <th>34659</th>\n",
       "      <td>spite fact noth good thing say amazon anth ive...</td>\n",
       "      <td>(0.3976190476190476, 0.5059523809523809)</td>\n",
       "    </tr>\n",
       "  </tbody>\n",
       "</table>\n",
       "<p>34660 rows × 2 columns</p>\n",
       "</div>"
      ],
      "text/plain": [
       "                                            reviews.text  \\\n",
       "0      product far disappoint children love use like ...   \n",
       "1         great beginn experienc person bought gift love   \n",
       "2      inexpens tablet use learn step nabi thrill lea...   \n",
       "3      ive fire hd 8 two week love tablet great value...   \n",
       "4      bought grand daughter come visit set user ente...   \n",
       "5      amazon fire 8 inch tablet perfect size purchas...   \n",
       "6      great eread go nice light weight price point g...   \n",
       "7      gave christma gift inlaw husband uncl love eas...   \n",
       "8      great devic read book like link borrow librari...   \n",
       "9                            love order book read reader   \n",
       "10                         easi elderli user ceas ad pop   \n",
       "11     excel product easi use larg screen make watch ...   \n",
       "12     want father first tablet good valu watch movi ...   \n",
       "13     simpli everyth need thank youand silk work wonder   \n",
       "14                          got present love size screen   \n",
       "15     kindl easiest use graphic screen crisp clear b...   \n",
       "16        nice reader almost perfect wantne good bargain   \n",
       "17     realli like tablet would given 5 star sometim ...   \n",
       "18      great video qualiti lot fun app fun whole famili   \n",
       "19     love love love kindl fire 8thi 9 yr old grandd...   \n",
       "20     excel tablet nice screen wish amazon would pre...   \n",
       "21     preload read app kindl expand app perfect trav...   \n",
       "22     happi product easi usepictur clear take great ...   \n",
       "23     grandchildren home school util tabl mani learn...   \n",
       "24     great size easi carri travel need spend time l...   \n",
       "25     purchas last tablet die meet basic need price ...   \n",
       "26     perfect download read book perfect size nice b...   \n",
       "27     surpris learn capabl devic husband access desk...   \n",
       "28                          got son user friendli durabl   \n",
       "29     visual qualiti fire 8 hd amaz run fast easi us...   \n",
       "...                                                  ...   \n",
       "34630  new kindl dx2 graphit came yesterday immedi re...   \n",
       "34631  cover made kindl dx fit beauti problem big one...   \n",
       "34632  sever cover simpl rubber cover expand packag h...   \n",
       "34633  reason peopl give 5 star dont give product eno...   \n",
       "34634  cover must kindl read devic purchas differ cas...   \n",
       "34635  cover black cover inde fold back sure review s...   \n",
       "34636  found cover quit handsom appear everyon see co...   \n",
       "34637  well kindl lover notic although taken great ca...   \n",
       "34638  cover replac initi cover broke kindl framewher...   \n",
       "34639  recent receiv kindl fire hd gift knew hook com...   \n",
       "34640  surpass expect charg faster one come kindl fir...   \n",
       "34641  amazon alreadi includ cabl kindl fire 7 kindl ...   \n",
       "34642  bought play kindl long period time play charg ...   \n",
       "34643  cord work great also love longer origin cord u...   \n",
       "34644  correct problem kindl charg hope ill need kind...   \n",
       "34645  work well kindl model either comput cord charg...   \n",
       "34646  use one time download ebook work exactli suppo...   \n",
       "34647  excel charg qualiti heavi duti cord work kindl...   \n",
       "34648  charger 9w rapid charger describ work well fir...   \n",
       "34649                                  expect want thank   \n",
       "34650  although descript state work kindl fire hdx 89...   \n",
       "34651                                     connect snugli   \n",
       "34652  alreadi pleas amazon choic includ essenti usel...   \n",
       "34653  charger work noth special mk 1 kindl fire does...   \n",
       "34654  exactli like usb power charger make unnecessar...   \n",
       "34655  appreci faster 18 higher amp charger use kindl...   \n",
       "34656  amazon includ charger kindl fact theyr charg u...   \n",
       "34657  love kindl fire realli disappoint kindl power ...   \n",
       "34658  surpris find come type charg cord purchas one ...   \n",
       "34659  spite fact noth good thing say amazon anth ive...   \n",
       "\n",
       "                                       senti_score  \n",
       "0                                       (0.3, 0.8)  \n",
       "1                                    (0.65, 0.675)  \n",
       "2                                       (0.0, 0.0)  \n",
       "3        (0.29545454545454547, 0.6492424242424243)  \n",
       "4                        (0.5, 0.5827777777777777)  \n",
       "5         (0.5666666666666667, 0.7000000000000001)  \n",
       "6         (0.5249999999999999, 0.6375000000000001)  \n",
       "7                                       (0.5, 0.6)  \n",
       "8         (0.4666666666666666, 0.8833333333333333)  \n",
       "9                                       (0.5, 0.6)  \n",
       "10                                      (0.0, 0.0)  \n",
       "11                                      (0.0, 0.0)  \n",
       "12      (0.13749999999999998, 0.45833333333333337)  \n",
       "13                                      (0.0, 0.0)  \n",
       "14                                     (0.25, 0.3)  \n",
       "15                                  (0.3125, 0.55)  \n",
       "16        (0.7666666666666666, 0.8666666666666667)  \n",
       "17                                      (0.0, 0.0)  \n",
       "18                      (0.4, 0.38749999999999996)  \n",
       "19       (0.25833333333333336, 0.4083333333333334)  \n",
       "20                                      (0.8, 1.0)  \n",
       "21                      (0.11666666666666665, 0.6)  \n",
       "22                      (0.45, 0.5666666666666667)  \n",
       "23                                   (0.65, 0.675)  \n",
       "24                                     (0.8, 0.75)  \n",
       "25       (0.26666666666666666, 0.3138888888888889)  \n",
       "26                      (0.8250000000000001, 0.95)  \n",
       "27                                      (0.0, 0.0)  \n",
       "28                                      (0.0, 0.0)  \n",
       "29                                      (0.1, 0.3)  \n",
       "...                                            ...  \n",
       "34630   (0.19664502164502168, 0.36699134199134203)  \n",
       "34631    (0.1388888888888889, 0.31481481481481477)  \n",
       "34632   (0.13164335664335663, 0.46808469308469314)  \n",
       "34633    (0.10119047619047618, 0.4186507936507936)  \n",
       "34634                                   (0.0, 0.0)  \n",
       "34635  (0.052564102564102565, 0.46324786324786327)  \n",
       "34636   (0.19722222222222222, 0.48194444444444445)  \n",
       "34637                                 (0.39, 0.53)  \n",
       "34638     (0.3303030303030303, 0.4676767676767677)  \n",
       "34639                                (0.15, 0.175)  \n",
       "34640   (0.13636363636363635, 0.45454545454545453)  \n",
       "34641    (0.21282051282051284, 0.2602564102564103)  \n",
       "34642                                 (-0.05, 0.4)  \n",
       "34643                   (0.6666666666666666, 0.65)  \n",
       "34644                                  (-0.5, 1.0)  \n",
       "34645     (0.5681818181818181, 0.7272727272727273)  \n",
       "34646                                   (0.0, 0.0)  \n",
       "34647                                  (0.8, 0.75)  \n",
       "34648                                  (0.55, 0.5)  \n",
       "34649                                   (0.0, 0.0)  \n",
       "34650                                   (0.0, 0.0)  \n",
       "34651                                   (0.0, 0.0)  \n",
       "34652                (0.0625, 0.41250000000000003)  \n",
       "34653    (0.17857142857142858, 0.2857142857142857)  \n",
       "34654                                 (0.0, 0.125)  \n",
       "34655    (0.27499999999999997, 0.3461538461538462)  \n",
       "34656                   (0.2, 0.39999999999999997)  \n",
       "34657     (0.3111111111111111, 0.4222222222222222)  \n",
       "34658                                   (0.0, 0.0)  \n",
       "34659     (0.3976190476190476, 0.5059523809523809)  \n",
       "\n",
       "[34660 rows x 2 columns]"
      ]
     },
     "execution_count": 24,
     "metadata": {},
     "output_type": "execute_result"
    }
   ],
   "source": [
    "   df[['reviews.text','senti_score']]"
   ]
  },
  {
   "cell_type": "markdown",
   "metadata": {},
   "source": [
    "# the first score is sentiment polarity which tells if the sentiment is positive or negative and the second score is subjectivity score to tell how subjective is the text"
   ]
  },
  {
   "cell_type": "code",
   "execution_count": null,
   "metadata": {},
   "outputs": [],
   "source": []
  },
  {
   "cell_type": "code",
   "execution_count": null,
   "metadata": {},
   "outputs": [],
   "source": []
  },
  {
   "cell_type": "code",
   "execution_count": null,
   "metadata": {},
   "outputs": [],
   "source": []
  },
  {
   "cell_type": "code",
   "execution_count": null,
   "metadata": {},
   "outputs": [],
   "source": []
  }
 ],
 "metadata": {
  "kernelspec": {
   "display_name": "Python 3",
   "language": "python",
   "name": "python3"
  },
  "language_info": {
   "codemirror_mode": {
    "name": "ipython",
    "version": 3
   },
   "file_extension": ".py",
   "mimetype": "text/x-python",
   "name": "python",
   "nbconvert_exporter": "python",
   "pygments_lexer": "ipython3",
   "version": "3.7.0"
  }
 },
 "nbformat": 4,
 "nbformat_minor": 2
}
